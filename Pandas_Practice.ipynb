{
  "nbformat": 4,
  "nbformat_minor": 0,
  "metadata": {
    "colab": {
      "name": "Pandas Practice",
      "provenance": [],
      "authorship_tag": "ABX9TyP3Lq6cLl4mUIJI5c0qtPoc",
      "include_colab_link": true
    },
    "kernelspec": {
      "name": "python3",
      "display_name": "Python 3"
    }
  },
  "cells": [
    {
      "cell_type": "markdown",
      "metadata": {
        "id": "view-in-github",
        "colab_type": "text"
      },
      "source": [
        "<a href=\"https://colab.research.google.com/github/sruthi1996/MLSummer2020/blob/master/Pandas_Practice.ipynb\" target=\"_parent\"><img src=\"https://colab.research.google.com/assets/colab-badge.svg\" alt=\"Open In Colab\"/></a>"
      ]
    },
    {
      "cell_type": "code",
      "metadata": {
        "id": "UNu6xOWSp-BV",
        "colab_type": "code",
        "colab": {}
      },
      "source": [
        "import pandas as pd"
      ],
      "execution_count": 1,
      "outputs": []
    },
    {
      "cell_type": "code",
      "metadata": {
        "id": "ol1cLlxfqeyp",
        "colab_type": "code",
        "colab": {
          "base_uri": "https://localhost:8080/",
          "height": 122
        },
        "outputId": "fde99f79-41ba-4d21-c799-29327fce5dc6"
      },
      "source": [
        "#series is a one-dimensional object similar to an array, list, or column in a table\n",
        "#It will assign a labeled index to each item in the Series. By default, each item will receive an index label from 0 to N, where N is the length of the Series minus one.\n",
        "\n",
        "s = pd.Series(['5l9', 'snist', 'sruthi', 2014, 2018])\n",
        "s"
      ],
      "execution_count": 3,
      "outputs": [
        {
          "output_type": "execute_result",
          "data": {
            "text/plain": [
              "0       5l9\n",
              "1     snist\n",
              "2    sruthi\n",
              "3      2014\n",
              "4      2018\n",
              "dtype: object"
            ]
          },
          "metadata": {
            "tags": []
          },
          "execution_count": 3
        }
      ]
    },
    {
      "cell_type": "code",
      "metadata": {
        "id": "ODSuQxWVrMd6",
        "colab_type": "code",
        "colab": {
          "base_uri": "https://localhost:8080/",
          "height": 122
        },
        "outputId": "0e0065a0-7039-460f-e321-0d87ed1e33c4"
      },
      "source": [
        "s = pd.Series(['5l9', 'snist', 'sruthi', 2014, 2018], index=['rollno', 'colgname', 'name', 'startyear', 'endyear'])\n",
        "s"
      ],
      "execution_count": 4,
      "outputs": [
        {
          "output_type": "execute_result",
          "data": {
            "text/plain": [
              "rollno          5l9\n",
              "colgname      snist\n",
              "name         sruthi\n",
              "startyear      2014\n",
              "endyear        2018\n",
              "dtype: object"
            ]
          },
          "metadata": {
            "tags": []
          },
          "execution_count": 4
        }
      ]
    },
    {
      "cell_type": "code",
      "metadata": {
        "id": "n-N5lbHXrhmX",
        "colab_type": "code",
        "colab": {
          "base_uri": "https://localhost:8080/",
          "height": 35
        },
        "outputId": "e5206b45-808a-49e2-bb4d-7643dd167d26"
      },
      "source": [
        "#create a dictionary in python and convert it into a series\n",
        "dic = {'aishu': 'SLC', 'teja': 'HYD', 'vaishu': 'BGLR'}\n",
        "cities = pd.Series(dic)\n",
        "cities\n",
        "cities['aishu']"
      ],
      "execution_count": 8,
      "outputs": [
        {
          "output_type": "execute_result",
          "data": {
            "application/vnd.google.colaboratory.intrinsic": {
              "type": "string"
            },
            "text/plain": [
              "'SLC'"
            ]
          },
          "metadata": {
            "tags": []
          },
          "execution_count": 8
        }
      ]
    },
    {
      "cell_type": "code",
      "metadata": {
        "id": "S4Azzlgttwto",
        "colab_type": "code",
        "colab": {}
      },
      "source": [
        ""
      ],
      "execution_count": null,
      "outputs": []
    }
  ]
}