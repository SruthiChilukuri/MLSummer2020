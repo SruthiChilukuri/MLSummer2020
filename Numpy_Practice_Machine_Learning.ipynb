{
  "nbformat": 4,
  "nbformat_minor": 0,
  "metadata": {
    "colab": {
      "name": "Numpy Practice:Machine Learning",
      "provenance": []
    },
    "kernelspec": {
      "name": "python3",
      "display_name": "Python 3"
    }
  },
  "cells": [
    {
      "cell_type": "code",
      "metadata": {
        "id": "Se1CRPWowHuO",
        "colab_type": "code",
        "colab": {}
      },
      "source": [
        "import numpy as np"
      ],
      "execution_count": 2,
      "outputs": []
    },
    {
      "cell_type": "code",
      "metadata": {
        "id": "zDZ9eaCUxP01",
        "colab_type": "code",
        "colab": {
          "base_uri": "https://localhost:8080/",
          "height": 492
        },
        "outputId": "5fd919d2-9723-43c2-993c-908b2e35faf7"
      },
      "source": [
        "#Print the numpy version and the configuration\n",
        "print(np.__version__)\n",
        "np.show_config()"
      ],
      "execution_count": 3,
      "outputs": [
        {
          "output_type": "stream",
          "text": [
            "1.18.5\n",
            "blas_mkl_info:\n",
            "  NOT AVAILABLE\n",
            "blis_info:\n",
            "  NOT AVAILABLE\n",
            "openblas_info:\n",
            "    libraries = ['openblas', 'openblas']\n",
            "    library_dirs = ['/usr/local/lib']\n",
            "    language = c\n",
            "    define_macros = [('HAVE_CBLAS', None)]\n",
            "blas_opt_info:\n",
            "    libraries = ['openblas', 'openblas']\n",
            "    library_dirs = ['/usr/local/lib']\n",
            "    language = c\n",
            "    define_macros = [('HAVE_CBLAS', None)]\n",
            "lapack_mkl_info:\n",
            "  NOT AVAILABLE\n",
            "openblas_lapack_info:\n",
            "    libraries = ['openblas', 'openblas']\n",
            "    library_dirs = ['/usr/local/lib']\n",
            "    language = c\n",
            "    define_macros = [('HAVE_CBLAS', None)]\n",
            "lapack_opt_info:\n",
            "    libraries = ['openblas', 'openblas']\n",
            "    library_dirs = ['/usr/local/lib']\n",
            "    language = c\n",
            "    define_macros = [('HAVE_CBLAS', None)]\n"
          ],
          "name": "stdout"
        }
      ]
    },
    {
      "cell_type": "code",
      "metadata": {
        "id": "dx7knqgcxuYQ",
        "colab_type": "code",
        "colab": {
          "base_uri": "https://localhost:8080/",
          "height": 34
        },
        "outputId": "35cbd126-2604-4f74-f695-291de634366c"
      },
      "source": [
        "# Create a null vector of size 10\n",
        "a = np.zeros(10)\n",
        "print(a)\n"
      ],
      "execution_count": 4,
      "outputs": [
        {
          "output_type": "stream",
          "text": [
            "[0. 0. 0. 0. 0. 0. 0. 0. 0. 0.]\n"
          ],
          "name": "stdout"
        }
      ]
    },
    {
      "cell_type": "code",
      "metadata": {
        "id": "Vnww3aylx4Eb",
        "colab_type": "code",
        "colab": {
          "base_uri": "https://localhost:8080/",
          "height": 70
        },
        "outputId": "a10f654d-cfd8-4c4e-cd3a-c27d4b6b6b2f"
      },
      "source": [
        "#Create a vector with values ranging from 10 to 49\n",
        "z = np.arange(10,50)\n",
        "z"
      ],
      "execution_count": 5,
      "outputs": [
        {
          "output_type": "execute_result",
          "data": {
            "text/plain": [
              "array([10, 11, 12, 13, 14, 15, 16, 17, 18, 19, 20, 21, 22, 23, 24, 25, 26,\n",
              "       27, 28, 29, 30, 31, 32, 33, 34, 35, 36, 37, 38, 39, 40, 41, 42, 43,\n",
              "       44, 45, 46, 47, 48, 49])"
            ]
          },
          "metadata": {
            "tags": []
          },
          "execution_count": 5
        }
      ]
    },
    {
      "cell_type": "code",
      "metadata": {
        "id": "Jx6HUKu1ypVg",
        "colab_type": "code",
        "colab": {
          "base_uri": "https://localhost:8080/",
          "height": 70
        },
        "outputId": "731cb868-19e4-41fa-bf7b-ec35c59aec69"
      },
      "source": [
        "#Reverse a vector (first element becomes last)\n",
        "z = np.arange(50)\n",
        "z = z[::-1]\n",
        "print(z)"
      ],
      "execution_count": 6,
      "outputs": [
        {
          "output_type": "stream",
          "text": [
            "[49 48 47 46 45 44 43 42 41 40 39 38 37 36 35 34 33 32 31 30 29 28 27 26\n",
            " 25 24 23 22 21 20 19 18 17 16 15 14 13 12 11 10  9  8  7  6  5  4  3  2\n",
            "  1  0]\n"
          ],
          "name": "stdout"
        }
      ]
    },
    {
      "cell_type": "code",
      "metadata": {
        "id": "fBcCBUoey3Tw",
        "colab_type": "code",
        "colab": {
          "base_uri": "https://localhost:8080/",
          "height": 70
        },
        "outputId": "0bf40351-940b-4d20-b11c-d634e840ba43"
      },
      "source": [
        "#Create a 3x3 matrix with values ranging from 0 to 8\n",
        "\n",
        "a = np.arange(0,9).reshape(3,3)\n",
        "print(a)"
      ],
      "execution_count": 7,
      "outputs": [
        {
          "output_type": "stream",
          "text": [
            "[[0 1 2]\n",
            " [3 4 5]\n",
            " [6 7 8]]\n"
          ],
          "name": "stdout"
        }
      ]
    },
    {
      "cell_type": "code",
      "metadata": {
        "id": "0OkPFj2037bA",
        "colab_type": "code",
        "colab": {
          "base_uri": "https://localhost:8080/",
          "height": 140
        },
        "outputId": "3bcb9364-b0cf-4dc4-92d0-e4dd5d8e464f"
      },
      "source": [
        "#Create a 3x3 identity matrix\n",
        "Z = np.eye(7)\n",
        "print(Z)"
      ],
      "execution_count": 8,
      "outputs": [
        {
          "output_type": "stream",
          "text": [
            "[[1. 0. 0. 0. 0. 0. 0.]\n",
            " [0. 1. 0. 0. 0. 0. 0.]\n",
            " [0. 0. 1. 0. 0. 0. 0.]\n",
            " [0. 0. 0. 1. 0. 0. 0.]\n",
            " [0. 0. 0. 0. 1. 0. 0.]\n",
            " [0. 0. 0. 0. 0. 1. 0.]\n",
            " [0. 0. 0. 0. 0. 0. 1.]]\n"
          ],
          "name": "stdout"
        }
      ]
    },
    {
      "cell_type": "code",
      "metadata": {
        "id": "uJ1zKqiO5Zip",
        "colab_type": "code",
        "colab": {
          "base_uri": "https://localhost:8080/",
          "height": 210
        },
        "outputId": "0125717d-ddbc-4827-c3d0-d37a586fdef1"
      },
      "source": [
        "#Create a 3x3x3 array with random values\n",
        "ab = np.random.random((3,3,3))\n",
        "print(ab)"
      ],
      "execution_count": 9,
      "outputs": [
        {
          "output_type": "stream",
          "text": [
            "[[[0.82377825 0.83482302 0.80582551]\n",
            "  [0.25275719 0.06618585 0.45349722]\n",
            "  [0.3268261  0.43492826 0.08129159]]\n",
            "\n",
            " [[0.95842464 0.79644643 0.19567435]\n",
            "  [0.76755184 0.52706805 0.60263191]\n",
            "  [0.01240428 0.02365279 0.43375159]]\n",
            "\n",
            " [[0.82957558 0.95764198 0.65718413]\n",
            "  [0.53045525 0.08847209 0.91903272]\n",
            "  [0.56871213 0.99180769 0.93813751]]]\n"
          ],
          "name": "stdout"
        }
      ]
    },
    {
      "cell_type": "code",
      "metadata": {
        "id": "NEetPPFQ6Kb6",
        "colab_type": "code",
        "colab": {
          "base_uri": "https://localhost:8080/",
          "height": 34
        },
        "outputId": "d6079064-c2e2-45ac-bba7-9c77f860b66d"
      },
      "source": [
        "#Create a 10x10 array with random values and find the minimum and maximum values\n",
        "Z = np.random.random((3,2,7))\n",
        "zmax, zmin = z.min(), z.max()\n",
        "print(zmax, zmin)"
      ],
      "execution_count": 10,
      "outputs": [
        {
          "output_type": "stream",
          "text": [
            "0 49\n"
          ],
          "name": "stdout"
        }
      ]
    },
    {
      "cell_type": "code",
      "metadata": {
        "id": "1cEoZGKs6sZw",
        "colab_type": "code",
        "colab": {
          "base_uri": "https://localhost:8080/",
          "height": 34
        },
        "outputId": "13ba32c3-b119-4ead-b679-2b2762c0baf2"
      },
      "source": [
        "#Standard deviation of the matrix\n",
        "z = np.random.random((3,3,3))\n",
        "a = np.std(Z)\n",
        "print(a)"
      ],
      "execution_count": 11,
      "outputs": [
        {
          "output_type": "stream",
          "text": [
            "0.2809952342269608\n"
          ],
          "name": "stdout"
        }
      ]
    },
    {
      "cell_type": "code",
      "metadata": {
        "id": "eXzWrgkt7pJv",
        "colab_type": "code",
        "colab": {
          "base_uri": "https://localhost:8080/",
          "height": 105
        },
        "outputId": "e54d409e-1765-4f5e-b472-6593d5579a16"
      },
      "source": [
        "#normalize any dimension matrix:value-mean/std_deviation\n",
        "Z = np.random.random((5,5))\n",
        "Z = (Z - np.mean(Z))/ (np.std(Z))\n",
        "print(Z)"
      ],
      "execution_count": 12,
      "outputs": [
        {
          "output_type": "stream",
          "text": [
            "[[ 0.17735768  0.27192825  0.09428601  0.27307448 -1.55953206]\n",
            " [-1.72377701 -1.2333474  -1.21922945  1.26291244 -0.48321344]\n",
            " [ 0.60481143  0.75451686 -0.53394007  2.15387921  1.19609692]\n",
            " [ 0.47320005  1.12743993  1.22295548  0.81784795 -1.02898952]\n",
            " [-0.78450588 -1.30943822 -0.47450394  0.00847311 -0.08830281]]\n"
          ],
          "name": "stdout"
        }
      ]
    },
    {
      "cell_type": "code",
      "metadata": {
        "id": "l3-BM6G8W1JU",
        "colab_type": "code",
        "colab": {
          "base_uri": "https://localhost:8080/",
          "height": 70
        },
        "outputId": "44dfe551-d796-467d-ad26-bda0f406863f"
      },
      "source": [
        "#How to find common values between two arrays\n",
        "z1 = np.random.randint(0,10,10)\n",
        "print(z1)\n",
        "z2 = np.random.randint(0,10,10)\n",
        "print(z2)\n",
        "\n",
        "print(np.intersect1d(z1, z2))"
      ],
      "execution_count": 13,
      "outputs": [
        {
          "output_type": "stream",
          "text": [
            "[5 5 7 0 2 7 9 0 9 4]\n",
            "[5 1 3 4 3 0 0 7 1 4]\n",
            "[0 4 5 7]\n"
          ],
          "name": "stdout"
        }
      ]
    },
    {
      "cell_type": "code",
      "metadata": {
        "id": "Vrh92bXeoBXY",
        "colab_type": "code",
        "colab": {
          "base_uri": "https://localhost:8080/",
          "height": 140
        },
        "outputId": "ecca0402-2716-40d0-8d0d-b4b990c8acd6"
      },
      "source": [
        "z = np.arange('2016-07', '2016-08', dtype='datetime64[D]')\n",
        "print(z)"
      ],
      "execution_count": 14,
      "outputs": [
        {
          "output_type": "stream",
          "text": [
            "['2016-07-01' '2016-07-02' '2016-07-03' '2016-07-04' '2016-07-05'\n",
            " '2016-07-06' '2016-07-07' '2016-07-08' '2016-07-09' '2016-07-10'\n",
            " '2016-07-11' '2016-07-12' '2016-07-13' '2016-07-14' '2016-07-15'\n",
            " '2016-07-16' '2016-07-17' '2016-07-18' '2016-07-19' '2016-07-20'\n",
            " '2016-07-21' '2016-07-22' '2016-07-23' '2016-07-24' '2016-07-25'\n",
            " '2016-07-26' '2016-07-27' '2016-07-28' '2016-07-29' '2016-07-30'\n",
            " '2016-07-31']\n"
          ],
          "name": "stdout"
        }
      ]
    },
    {
      "cell_type": "code",
      "metadata": {
        "id": "GjzWS5XCpXcC",
        "colab_type": "code",
        "colab": {
          "base_uri": "https://localhost:8080/",
          "height": 34
        },
        "outputId": "6c9034b4-3070-4fbf-fff5-f96f48adbdbb"
      },
      "source": [
        "#How to compute ((A+B)*(-A/2)) in place (without copy)\n",
        "A = np.ones(3)*1\n",
        "B = np.ones(3)*2\n",
        "C = np.ones(3)*3\n",
        "np.add(A,B,out=B)\n",
        "np.divide(A,2, out=A)\n",
        "np.negative(A,out=A)\n",
        "np.multiply(A,B,out=A)\n",
        "print(A)"
      ],
      "execution_count": 15,
      "outputs": [
        {
          "output_type": "stream",
          "text": [
            "[-1.5 -1.5 -1.5]\n"
          ],
          "name": "stdout"
        }
      ]
    },
    {
      "cell_type": "code",
      "metadata": {
        "id": "x7Ak-62DwzKe",
        "colab_type": "code",
        "colab": {
          "base_uri": "https://localhost:8080/",
          "height": 52
        },
        "outputId": "b960de90-6375-495f-f5a4-91128d5dcbca"
      },
      "source": [
        "z = np.random.uniform((0,10,10))\n",
        "print(z)\n",
        "print(z.astype(int))\n"
      ],
      "execution_count": 16,
      "outputs": [
        {
          "output_type": "stream",
          "text": [
            "[0.84146275 3.50742497 3.17131432]\n",
            "[0 3 3]\n"
          ],
          "name": "stdout"
        }
      ]
    },
    {
      "cell_type": "code",
      "metadata": {
        "id": "u3cInrf5phu_",
        "colab_type": "code",
        "colab": {
          "base_uri": "https://localhost:8080/",
          "height": 105
        },
        "outputId": "dd343144-a30b-443b-d19e-962ae9ef30c6"
      },
      "source": [
        "# Create a 5x5 matrix with row values ranging from 0 to 4\n",
        "Z = np.zeros((5,5))\n",
        "Z+=np.arange(5)\n",
        "print(Z)"
      ],
      "execution_count": 17,
      "outputs": [
        {
          "output_type": "stream",
          "text": [
            "[[0. 1. 2. 3. 4.]\n",
            " [0. 1. 2. 3. 4.]\n",
            " [0. 1. 2. 3. 4.]\n",
            " [0. 1. 2. 3. 4.]\n",
            " [0. 1. 2. 3. 4.]]\n"
          ],
          "name": "stdout"
        }
      ]
    },
    {
      "cell_type": "code",
      "metadata": {
        "id": "9YjgKP-aqFcG",
        "colab_type": "code",
        "colab": {
          "base_uri": "https://localhost:8080/",
          "height": 105
        },
        "outputId": "671a79fc-5a03-4126-9231-ca509dad857e"
      },
      "source": [
        "Z = np.zeros((5,5))\n",
        "print(Z)"
      ],
      "execution_count": 18,
      "outputs": [
        {
          "output_type": "stream",
          "text": [
            "[[0. 0. 0. 0. 0.]\n",
            " [0. 0. 0. 0. 0.]\n",
            " [0. 0. 0. 0. 0.]\n",
            " [0. 0. 0. 0. 0.]\n",
            " [0. 0. 0. 0. 0.]]\n"
          ],
          "name": "stdout"
        }
      ]
    },
    {
      "cell_type": "code",
      "metadata": {
        "id": "xxPh6ZqsqiS8",
        "colab_type": "code",
        "colab": {
          "base_uri": "https://localhost:8080/",
          "height": 105
        },
        "outputId": "b09246cc-3029-4bf1-f909-a09370b12ab1"
      },
      "source": [
        "#Create a vector of size 10 with values ranging from 0 to 1, both excluded ; endpoint is by default true but if false; last number in range excluded\n",
        "z = np.linspace(0,1,11,endpoint=False)[1:]\n",
        "print(Z)"
      ],
      "execution_count": 19,
      "outputs": [
        {
          "output_type": "stream",
          "text": [
            "[[0. 0. 0. 0. 0.]\n",
            " [0. 0. 0. 0. 0.]\n",
            " [0. 0. 0. 0. 0.]\n",
            " [0. 0. 0. 0. 0.]\n",
            " [0. 0. 0. 0. 0.]]\n"
          ],
          "name": "stdout"
        }
      ]
    },
    {
      "cell_type": "code",
      "metadata": {
        "id": "HdeHmhyhrlOr",
        "colab_type": "code",
        "colab": {
          "base_uri": "https://localhost:8080/",
          "height": 52
        },
        "outputId": "290e874b-51ce-4999-da97-19fa2b0b92d3"
      },
      "source": [
        "#How to sum a small array faster than np.sum?\n",
        "z = np.random.random(10)\n",
        "z.sort()\n",
        "print(z)"
      ],
      "execution_count": 20,
      "outputs": [
        {
          "output_type": "stream",
          "text": [
            "[0.04156678 0.3396862  0.53970519 0.54358154 0.65117018 0.78347315\n",
            " 0.81166601 0.902506   0.96263209 0.97623003]\n"
          ],
          "name": "stdout"
        }
      ]
    },
    {
      "cell_type": "code",
      "metadata": {
        "id": "a-xRI_oRrtaX",
        "colab_type": "code",
        "colab": {
          "base_uri": "https://localhost:8080/",
          "height": 34
        },
        "outputId": "a1636e89-b1c7-4ac8-f393-81bb258b1310"
      },
      "source": [
        "z = np.arange(10)\n",
        "print(z)\n"
      ],
      "execution_count": 21,
      "outputs": [
        {
          "output_type": "stream",
          "text": [
            "[0 1 2 3 4 5 6 7 8 9]\n"
          ],
          "name": "stdout"
        }
      ]
    },
    {
      "cell_type": "code",
      "metadata": {
        "id": "lWPYnQW7r45L",
        "colab_type": "code",
        "colab": {
          "base_uri": "https://localhost:8080/",
          "height": 52
        },
        "outputId": "5abccf0c-01a7-4185-e4fc-853ba568edb0"
      },
      "source": [
        "z = np.random.randint(0,2,10)\n",
        "print(z)\n",
        "z.sort()\n",
        "print(z)"
      ],
      "execution_count": 32,
      "outputs": [
        {
          "output_type": "stream",
          "text": [
            "[1 1 1 1 1 1 0 1 0 1]\n",
            "[0 0 1 1 1 1 1 1 1 1]\n"
          ],
          "name": "stdout"
        }
      ]
    },
    {
      "cell_type": "code",
      "metadata": {
        "id": "4mbRCpTdsR4R",
        "colab_type": "code",
        "colab": {
          "base_uri": "https://localhost:8080/",
          "height": 34
        },
        "outputId": "6e2b6c8f-5e57-4956-f24f-245a57d1d339"
      },
      "source": [
        "#Consider two random array A and B, check if they are equal : use allclose: Returns True if two arrays are element-wise equal within a tolerance.\n",
        "A = np.random.randint(0,6,10)\n",
        "B = np.random.randint(0,7,10)\n",
        "equal = np.allclose(A,B)\n",
        "print(equal)"
      ],
      "execution_count": 35,
      "outputs": [
        {
          "output_type": "stream",
          "text": [
            "False\n"
          ],
          "name": "stdout"
        }
      ]
    },
    {
      "cell_type": "code",
      "metadata": {
        "id": "4rvWAAFsvHK7",
        "colab_type": "code",
        "colab": {
          "base_uri": "https://localhost:8080/",
          "height": 34
        },
        "outputId": "96e4bd8a-9c65-4711-a103-eea93319a088"
      },
      "source": [
        "A =[1,1,1,1,1,1]\n",
        "B =[1,1,1,1,1,1]\n",
        "equal = np.allclose(A,B)\n",
        "print(equal)"
      ],
      "execution_count": 36,
      "outputs": [
        {
          "output_type": "stream",
          "text": [
            "True\n"
          ],
          "name": "stdout"
        }
      ]
    },
    {
      "cell_type": "code",
      "metadata": {
        "id": "8OPXZAYVxs1V",
        "colab_type": "code",
        "colab": {
          "base_uri": "https://localhost:8080/",
          "height": 34
        },
        "outputId": "aaee6558-498f-42c3-9850-71ad5af76d95"
      },
      "source": [
        "#Checking both the shape and the element values, no tolerance (values have to be exactly equal)\n",
        "A = np.random.randint(0,6,10)\n",
        "B = np.random.randint(0,7,10)\n",
        "equal = np.array_equal(A,B)\n",
        "print(equal)"
      ],
      "execution_count": 38,
      "outputs": [
        {
          "output_type": "stream",
          "text": [
            "False\n"
          ],
          "name": "stdout"
        }
      ]
    },
    {
      "cell_type": "code",
      "metadata": {
        "id": "EYiA_jHMyIMs",
        "colab_type": "code",
        "colab": {
          "base_uri": "https://localhost:8080/",
          "height": 70
        },
        "outputId": "cd6e704a-cf20-47e0-9b1e-10358fac6674"
      },
      "source": [
        "#Create random vector of size 10 and replace the maximum value by 0\n",
        "Z = np.random.random(10)\n",
        "Z[Z.argmax()] = 0\n",
        "print(Z)\n",
        "print(Z.argmin())"
      ],
      "execution_count": 41,
      "outputs": [
        {
          "output_type": "stream",
          "text": [
            "[0.03876887 0.41636947 0.60528818 0.75403222 0.31201159 0.09815701\n",
            " 0.04187548 0.77689758 0.06354648 0.        ]\n",
            "9\n"
          ],
          "name": "stdout"
        }
      ]
    },
    {
      "cell_type": "code",
      "metadata": {
        "id": "wM7374fg3edw",
        "colab_type": "code",
        "colab": {
          "base_uri": "https://localhost:8080/",
          "height": 105
        },
        "outputId": "52d97abd-4c5f-453d-e89e-f7b8e59f6f5c"
      },
      "source": [
        "np.set_printoptions(threshold=float(\"inf\"))\n",
        "Z = np.random.random((5,5))\n",
        "print(Z)"
      ],
      "execution_count": 44,
      "outputs": [
        {
          "output_type": "stream",
          "text": [
            "[[0.70281674 0.56610412 0.40386242 0.86211354 0.58653562]\n",
            " [0.02358973 0.46024303 0.47485781 0.42364426 0.40843542]\n",
            " [0.32975811 0.74880054 0.35599886 0.57449628 0.46208456]\n",
            " [0.09555316 0.8315052  0.23383003 0.07932242 0.13982268]\n",
            " [0.32915411 0.84697645 0.44468806 0.47163651 0.64421189]]\n"
          ],
          "name": "stdout"
        }
      ]
    },
    {
      "cell_type": "code",
      "metadata": {
        "id": "vZK55X9F4N60",
        "colab_type": "code",
        "colab": {
          "base_uri": "https://localhost:8080/",
          "height": 70
        },
        "outputId": "eeb0dc24-7ac8-49a6-c110-7afcd25b1d15"
      },
      "source": [
        "from io import StringIO\n",
        "\n",
        "# Fake file\n",
        "s = StringIO('''1, 2, 3, 4, 5\n",
        "\n",
        "                6,  ,  , 7, 8\n",
        "\n",
        "                 ,  , 9,10,11\n",
        "''')\n",
        "Z = np.genfromtxt(s, delimiter=\",\", dtype=np.int)\n",
        "print(Z)"
      ],
      "execution_count": 45,
      "outputs": [
        {
          "output_type": "stream",
          "text": [
            "[[ 1  2  3  4  5]\n",
            " [ 6 -1 -1  7  8]\n",
            " [-1 -1  9 10 11]]\n"
          ],
          "name": "stdout"
        }
      ]
    },
    {
      "cell_type": "code",
      "metadata": {
        "id": "AYH21BjZ42qj",
        "colab_type": "code",
        "colab": {
          "base_uri": "https://localhost:8080/",
          "height": 334
        },
        "outputId": "e350f5b7-3dee-4aef-c7e4-39f396a2a166"
      },
      "source": [
        "#What is the equivalent of enumerate for numpy arrays?\n",
        "z = np.arange(9).reshape(3,3)\n",
        "for i, v in np.ndenumerate(z):\n",
        "  print(i,v)\n",
        "for i in np.ndindex(z.shape):\n",
        "  print(i,z[i])\n"
      ],
      "execution_count": 49,
      "outputs": [
        {
          "output_type": "stream",
          "text": [
            "(0, 0) 0\n",
            "(0, 1) 1\n",
            "(0, 2) 2\n",
            "(1, 0) 3\n",
            "(1, 1) 4\n",
            "(1, 2) 5\n",
            "(2, 0) 6\n",
            "(2, 1) 7\n",
            "(2, 2) 8\n",
            "(0, 0) 0\n",
            "(0, 1) 1\n",
            "(0, 2) 2\n",
            "(1, 0) 3\n",
            "(1, 1) 4\n",
            "(1, 2) 5\n",
            "(2, 0) 6\n",
            "(2, 1) 7\n",
            "(2, 2) 8\n"
          ],
          "name": "stdout"
        }
      ]
    },
    {
      "cell_type": "code",
      "metadata": {
        "id": "5Es9TkWp_M1J",
        "colab_type": "code",
        "colab": {}
      },
      "source": [
        ""
      ],
      "execution_count": null,
      "outputs": []
    }
  ]
}